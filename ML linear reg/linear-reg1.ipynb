{
 "cells": [
  {
   "cell_type": "markdown",
   "id": "d6af7fda",
   "metadata": {},
   "source": [
    "# <font color='Blue'>Predicting yearly amount spent by a customer on the app</font>\n"
   ]
  },
  {
   "cell_type": "markdown",
   "id": "340eee40",
   "metadata": {},
   "source": [
    "### <font color='red'> Importing necessary libraries </font>"
   ]
  },
  {
   "cell_type": "code",
   "execution_count": 136,
   "id": "cfd51160",
   "metadata": {},
   "outputs": [],
   "source": [
    "import pandas as pd\n",
    "import seaborn as sns\n",
    "import matplotlib.pyplot as plt\n",
    "import plotly.express as px\n",
    "import numpy as np"
   ]
  },
  {
   "cell_type": "markdown",
   "id": "4d2c723d",
   "metadata": {},
   "source": [
    "### <font color='red'> Loading the dataset </font>"
   ]
  },
  {
   "cell_type": "code",
   "execution_count": 10,
   "id": "0b327e62",
   "metadata": {},
   "outputs": [
    {
     "data": {
      "text/html": [
       "<div>\n",
       "<style scoped>\n",
       "    .dataframe tbody tr th:only-of-type {\n",
       "        vertical-align: middle;\n",
       "    }\n",
       "\n",
       "    .dataframe tbody tr th {\n",
       "        vertical-align: top;\n",
       "    }\n",
       "\n",
       "    .dataframe thead th {\n",
       "        text-align: right;\n",
       "    }\n",
       "</style>\n",
       "<table border=\"1\" class=\"dataframe\">\n",
       "  <thead>\n",
       "    <tr style=\"text-align: right;\">\n",
       "      <th></th>\n",
       "      <th>Email</th>\n",
       "      <th>Address</th>\n",
       "      <th>Avatar</th>\n",
       "      <th>Avg. Session Length</th>\n",
       "      <th>Time on App</th>\n",
       "      <th>Time on Website</th>\n",
       "      <th>Length of Membership</th>\n",
       "      <th>Yearly Amount Spent</th>\n",
       "    </tr>\n",
       "  </thead>\n",
       "  <tbody>\n",
       "    <tr>\n",
       "      <th>0</th>\n",
       "      <td>mstephenson@fernandez.com</td>\n",
       "      <td>835 Frank Tunnel\\nWrightmouth, MI 82180-9605</td>\n",
       "      <td>Violet</td>\n",
       "      <td>34.497268</td>\n",
       "      <td>12.655651</td>\n",
       "      <td>39.577668</td>\n",
       "      <td>4.082621</td>\n",
       "      <td>587.951054</td>\n",
       "    </tr>\n",
       "    <tr>\n",
       "      <th>1</th>\n",
       "      <td>hduke@hotmail.com</td>\n",
       "      <td>4547 Archer Common\\nDiazchester, CA 06566-8576</td>\n",
       "      <td>DarkGreen</td>\n",
       "      <td>31.926272</td>\n",
       "      <td>11.109461</td>\n",
       "      <td>37.268959</td>\n",
       "      <td>2.664034</td>\n",
       "      <td>392.204933</td>\n",
       "    </tr>\n",
       "    <tr>\n",
       "      <th>2</th>\n",
       "      <td>pallen@yahoo.com</td>\n",
       "      <td>24645 Valerie Unions Suite 582\\nCobbborough, D...</td>\n",
       "      <td>Bisque</td>\n",
       "      <td>33.000915</td>\n",
       "      <td>11.330278</td>\n",
       "      <td>37.110597</td>\n",
       "      <td>4.104543</td>\n",
       "      <td>487.547505</td>\n",
       "    </tr>\n",
       "    <tr>\n",
       "      <th>3</th>\n",
       "      <td>riverarebecca@gmail.com</td>\n",
       "      <td>1414 David Throughway\\nPort Jason, OH 22070-1220</td>\n",
       "      <td>SaddleBrown</td>\n",
       "      <td>34.305557</td>\n",
       "      <td>13.717514</td>\n",
       "      <td>36.721283</td>\n",
       "      <td>3.120179</td>\n",
       "      <td>581.852344</td>\n",
       "    </tr>\n",
       "    <tr>\n",
       "      <th>4</th>\n",
       "      <td>mstephens@davidson-herman.com</td>\n",
       "      <td>14023 Rodriguez Passage\\nPort Jacobville, PR 3...</td>\n",
       "      <td>MediumAquaMarine</td>\n",
       "      <td>33.330673</td>\n",
       "      <td>12.795189</td>\n",
       "      <td>37.536653</td>\n",
       "      <td>4.446308</td>\n",
       "      <td>599.406092</td>\n",
       "    </tr>\n",
       "  </tbody>\n",
       "</table>\n",
       "</div>"
      ],
      "text/plain": [
       "                           Email  \\\n",
       "0      mstephenson@fernandez.com   \n",
       "1              hduke@hotmail.com   \n",
       "2               pallen@yahoo.com   \n",
       "3        riverarebecca@gmail.com   \n",
       "4  mstephens@davidson-herman.com   \n",
       "\n",
       "                                             Address            Avatar  \\\n",
       "0       835 Frank Tunnel\\nWrightmouth, MI 82180-9605            Violet   \n",
       "1     4547 Archer Common\\nDiazchester, CA 06566-8576         DarkGreen   \n",
       "2  24645 Valerie Unions Suite 582\\nCobbborough, D...            Bisque   \n",
       "3   1414 David Throughway\\nPort Jason, OH 22070-1220       SaddleBrown   \n",
       "4  14023 Rodriguez Passage\\nPort Jacobville, PR 3...  MediumAquaMarine   \n",
       "\n",
       "   Avg. Session Length  Time on App  Time on Website  Length of Membership  \\\n",
       "0            34.497268    12.655651        39.577668              4.082621   \n",
       "1            31.926272    11.109461        37.268959              2.664034   \n",
       "2            33.000915    11.330278        37.110597              4.104543   \n",
       "3            34.305557    13.717514        36.721283              3.120179   \n",
       "4            33.330673    12.795189        37.536653              4.446308   \n",
       "\n",
       "   Yearly Amount Spent  \n",
       "0           587.951054  \n",
       "1           392.204933  \n",
       "2           487.547505  \n",
       "3           581.852344  \n",
       "4           599.406092  "
      ]
     },
     "execution_count": 10,
     "metadata": {},
     "output_type": "execute_result"
    }
   ],
   "source": [
    "df = pd.read_csv (r'C:\\Users\\91928\\Desktop\\jupyter\\ML linear reg\\EcommerceCustomers.csv')\n",
    "df.head()"
   ]
  },
  {
   "cell_type": "markdown",
   "id": "9274de65",
   "metadata": {},
   "source": [
    "### <font color='red'> Exploratory Data Analysis </font>"
   ]
  },
  {
   "cell_type": "markdown",
   "id": "775e564a",
   "metadata": {},
   "source": [
    "#### Checking for any null values"
   ]
  },
  {
   "cell_type": "code",
   "execution_count": 47,
   "id": "abf77da7",
   "metadata": {},
   "outputs": [
    {
     "data": {
      "text/plain": [
       "0"
      ]
     },
     "execution_count": 47,
     "metadata": {},
     "output_type": "execute_result"
    }
   ],
   "source": [
    "df.isnull().sum().sum() "
   ]
  },
  {
   "cell_type": "markdown",
   "id": "a422411c",
   "metadata": {},
   "source": [
    "Therefore, we have no null values in the dataset."
   ]
  },
  {
   "cell_type": "code",
   "execution_count": 11,
   "id": "2635cf3c",
   "metadata": {},
   "outputs": [
    {
     "name": "stdout",
     "output_type": "stream",
     "text": [
      "<class 'pandas.core.frame.DataFrame'>\n",
      "RangeIndex: 500 entries, 0 to 499\n",
      "Data columns (total 8 columns):\n",
      " #   Column                Non-Null Count  Dtype  \n",
      "---  ------                --------------  -----  \n",
      " 0   Email                 500 non-null    object \n",
      " 1   Address               500 non-null    object \n",
      " 2   Avatar                500 non-null    object \n",
      " 3   Avg. Session Length   500 non-null    float64\n",
      " 4   Time on App           500 non-null    float64\n",
      " 5   Time on Website       500 non-null    float64\n",
      " 6   Length of Membership  500 non-null    float64\n",
      " 7   Yearly Amount Spent   500 non-null    float64\n",
      "dtypes: float64(5), object(3)\n",
      "memory usage: 31.4+ KB\n"
     ]
    }
   ],
   "source": [
    "df.info()"
   ]
  },
  {
   "cell_type": "code",
   "execution_count": 7,
   "id": "579f08c1",
   "metadata": {},
   "outputs": [
    {
     "data": {
      "text/html": [
       "<div>\n",
       "<style scoped>\n",
       "    .dataframe tbody tr th:only-of-type {\n",
       "        vertical-align: middle;\n",
       "    }\n",
       "\n",
       "    .dataframe tbody tr th {\n",
       "        vertical-align: top;\n",
       "    }\n",
       "\n",
       "    .dataframe thead th {\n",
       "        text-align: right;\n",
       "    }\n",
       "</style>\n",
       "<table border=\"1\" class=\"dataframe\">\n",
       "  <thead>\n",
       "    <tr style=\"text-align: right;\">\n",
       "      <th></th>\n",
       "      <th>Avg. Session Length</th>\n",
       "      <th>Time on App</th>\n",
       "      <th>Time on Website</th>\n",
       "      <th>Length of Membership</th>\n",
       "      <th>Yearly Amount Spent</th>\n",
       "    </tr>\n",
       "  </thead>\n",
       "  <tbody>\n",
       "    <tr>\n",
       "      <th>count</th>\n",
       "      <td>500.000000</td>\n",
       "      <td>500.000000</td>\n",
       "      <td>500.000000</td>\n",
       "      <td>500.000000</td>\n",
       "      <td>500.000000</td>\n",
       "    </tr>\n",
       "    <tr>\n",
       "      <th>mean</th>\n",
       "      <td>33.053194</td>\n",
       "      <td>12.052488</td>\n",
       "      <td>37.060445</td>\n",
       "      <td>3.533462</td>\n",
       "      <td>499.314038</td>\n",
       "    </tr>\n",
       "    <tr>\n",
       "      <th>std</th>\n",
       "      <td>0.992563</td>\n",
       "      <td>0.994216</td>\n",
       "      <td>1.010489</td>\n",
       "      <td>0.999278</td>\n",
       "      <td>79.314782</td>\n",
       "    </tr>\n",
       "    <tr>\n",
       "      <th>min</th>\n",
       "      <td>29.532429</td>\n",
       "      <td>8.508152</td>\n",
       "      <td>33.913847</td>\n",
       "      <td>0.269901</td>\n",
       "      <td>256.670582</td>\n",
       "    </tr>\n",
       "    <tr>\n",
       "      <th>25%</th>\n",
       "      <td>32.341822</td>\n",
       "      <td>11.388153</td>\n",
       "      <td>36.349257</td>\n",
       "      <td>2.930450</td>\n",
       "      <td>445.038277</td>\n",
       "    </tr>\n",
       "    <tr>\n",
       "      <th>50%</th>\n",
       "      <td>33.082008</td>\n",
       "      <td>11.983231</td>\n",
       "      <td>37.069367</td>\n",
       "      <td>3.533975</td>\n",
       "      <td>498.887875</td>\n",
       "    </tr>\n",
       "    <tr>\n",
       "      <th>75%</th>\n",
       "      <td>33.711985</td>\n",
       "      <td>12.753850</td>\n",
       "      <td>37.716432</td>\n",
       "      <td>4.126502</td>\n",
       "      <td>549.313828</td>\n",
       "    </tr>\n",
       "    <tr>\n",
       "      <th>max</th>\n",
       "      <td>36.139662</td>\n",
       "      <td>15.126994</td>\n",
       "      <td>40.005182</td>\n",
       "      <td>6.922689</td>\n",
       "      <td>765.518462</td>\n",
       "    </tr>\n",
       "  </tbody>\n",
       "</table>\n",
       "</div>"
      ],
      "text/plain": [
       "       Avg. Session Length  Time on App  Time on Website  \\\n",
       "count           500.000000   500.000000       500.000000   \n",
       "mean             33.053194    12.052488        37.060445   \n",
       "std               0.992563     0.994216         1.010489   \n",
       "min              29.532429     8.508152        33.913847   \n",
       "25%              32.341822    11.388153        36.349257   \n",
       "50%              33.082008    11.983231        37.069367   \n",
       "75%              33.711985    12.753850        37.716432   \n",
       "max              36.139662    15.126994        40.005182   \n",
       "\n",
       "       Length of Membership  Yearly Amount Spent  \n",
       "count            500.000000           500.000000  \n",
       "mean               3.533462           499.314038  \n",
       "std                0.999278            79.314782  \n",
       "min                0.269901           256.670582  \n",
       "25%                2.930450           445.038277  \n",
       "50%                3.533975           498.887875  \n",
       "75%                4.126502           549.313828  \n",
       "max                6.922689           765.518462  "
      ]
     },
     "execution_count": 7,
     "metadata": {},
     "output_type": "execute_result"
    }
   ],
   "source": [
    "df.describe()"
   ]
  },
  {
   "cell_type": "code",
   "execution_count": 23,
   "id": "f973f206",
   "metadata": {},
   "outputs": [
    {
     "data": {
      "text/plain": [
       "<AxesSubplot:>"
      ]
     },
     "execution_count": 23,
     "metadata": {},
     "output_type": "execute_result"
    },
    {
     "data": {
      "image/png": "[encoded data removed]",
      "text/plain": [
       "<Figure size 640x480 with 2 Axes>"
      ]
     },
     "metadata": {},
     "output_type": "display_data"
    }
   ],
   "source": [
    "sns.heatmap(df.corr(), annot=True)"
   ]
  },
  {
   "cell_type": "markdown",
   "id": "02f98145",
   "metadata": {},
   "source": [
    "#### From the correlation, we can see that 'Length of Membership' and 'Time on App' attributes have the most impact on amount spent"
   ]
  },
  {
   "cell_type": "code",
   "execution_count": 21,
   "id": "ab727550",
   "metadata": {},
   "outputs": [
    {
     "data": {
      "application/vnd.plotly.v1+json": {
       "config": {
        "plotlyServerURL": "https://plot.ly"
       },
       "data": [
        {
         "alignmentgroup": "True",
         "bingroup": "x",
         "hovertemplate": "Length of Membership=%{x}<br>count=%{y}<extra></extra>",
         "legendgroup": "",
         "marker": {
          "color": "#636efa",
          "pattern": {
           "shape": ""
          }
         },
         "name": "",
         "offsetgroup": "",
         "orientation": "v",
         "showlegend": false,
         "type": "histogram",
         "x": [
          4.082620632952961,
          2.66403418213262,
          4.104543202376424,
          3.120178782748092,
          4.446308318351435,
          5.493507201364199,
          4.685017246570912,
          4.4342734348999375,
          3.2734335777477144,
          3.202806071553459,
          2.482607770510596,
          3.71320920294043,
          4.046423164299585,
          3.918541839158999,
          2.494543646659249,
          3.357846842326294,
          3.1361327164897803,
          2.420806160901484,
          1.516575580831944,
          4.064548550437977,
          4.599937357614995,
          1.559151939957077,
          2.2451477874052825,
          3.919302308553184,
          5.705153970601026,
          2.7217359920452187,
          4.648199316428601,
          2.996364526268539,
          3.923488745527437,
          4.742577519573315,
          3.062368145311689,
          3.471413452477678,
          4.343062915388998,
          2.8200972339734696,
          4.1245852967146535,
          3.649286157714702,
          1.8473704233395083,
          3.452388582630727,
          4.650491269094463,
          4.22243622534277,
          4.671275460906252,
          4.646119976606155,
          4.214495086037866,
          4.643258549800133,
          2.258686386946843,
          3.663105491283854,
          3.8768751769237673,
          4.113226122724209,
          3.202531199210734,
          3.198399271684906,
          5.97676812602,
          2.952668957921736,
          2.0948917061051766,
          3.85547168456418,
          2.874596910303952,
          3.3920504890738385,
          2.995761182613056,
          3.315224753915403,
          3.4719191365417483,
          3.9705556280753487,
          4.639320331857264,
          5.081210092491108,
          4.802630630523376,
          3.414688422504897,
          3.462298847460372,
          5.377593583586978,
          4.001786345798084,
          3.4395905595500764,
          2.7795207192736093,
          3.5526497674265176,
          2.6022871120328714,
          4.694322274442824,
          3.4015223445155094,
          3.8515788003584657,
          3.25811288288828,
          3.120568914816974,
          2.837943164069798,
          4.470282584120023,
          4.442054329011166,
          3.164943995285113,
          3.7517345520890513,
          3.159754443950926,
          4.130562809236323,
          1.9140899242311,
          4.396651901097083,
          5.113319474870622,
          2.669941624279581,
          3.3664637433729325,
          4.571213023779052,
          3.917451119136939,
          2.476139050596411,
          4.125584363255396,
          3.9972553776226674,
          1.3626740800013843,
          4.193324635532072,
          3.871003400176416,
          4.08180269478151,
          4.252006105620936,
          3.911708668370663,
          3.021671821710012,
          3.184618661620886,
          2.877224878259828,
          2.5869679851624765,
          2.9696402266327597,
          3.4288599039280125,
          2.926940235492512,
          3.781823039343296,
          3.004742535925674,
          3.854473855602962,
          3.318822278930894,
          3.361814624383144,
          3.722561172893833,
          3.5435470501829984,
          2.789461516374708,
          5.4859767341605234,
          2.59418972057778,
          2.753424168758119,
          5.004820577490747,
          3.873337568743252,
          3.79872531905254,
          3.292797662575647,
          4.716104987209577,
          4.018726609737513,
          3.637701279515837,
          3.834169666632599,
          4.531986606666632,
          4.106055151602658,
          3.2182653850978555,
          3.283663455404016,
          2.924020724598205,
          3.90525030898213,
          4.920318406118319,
          2.473596120847858,
          4.131276648377655,
          1.7677307075942403,
          2.72410820200549,
          3.897115859957253,
          2.491671541288354,
          3.8634254422050343,
          3.5786339003939878,
          3.9588922643660966,
          3.251741770306888,
          3.914384667246393,
          1.4435150746515455,
          2.910037916541069,
          3.3455709758422434,
          3.0895277822700096,
          4.514122441132637,
          1.8258846690261428,
          3.993656512525085,
          2.652158304851241,
          6.401228837806773,
          5.391275125020632,
          6.076653638440144,
          3.8648607392342784,
          2.941410754428091,
          5.084861308602489,
          6.922689335035807,
          3.6043985602569495,
          3.7849321101304056,
          3.3091823280429797,
          0.9686221157417688,
          3.768561962709896,
          3.585160635161344,
          4.520353377496559,
          3.6758488000184415,
          2.873007508505152,
          4.055775961742958,
          3.015175298743708,
          4.717102512825834,
          2.926396448726688,
          2.361086946869883,
          4.968742673728142,
          0.8015157200042076,
          3.669225611315444,
          1.7157771665531147,
          4.773503047345896,
          4.087837272921703,
          4.131755039569861,
          3.4427992020016864,
          4.724027439824315,
          3.2309738432875563,
          2.972271382079821,
          3.182329731786818,
          4.806349618785283,
          3.6203649883552,
          3.261324744787093,
          3.597459968849926,
          4.789201624179895,
          3.3164647447029107,
          4.632460945972205,
          3.308443000674604,
          4.015986640445781,
          4.369366793790984,
          2.56663984381683,
          3.5190324339539223,
          1.503854421225295,
          5.039955263662929,
          4.47871260846301,
          3.361612984538193,
          1.9207154781756468,
          4.330714461860564,
          3.811248170807232,
          3.0887639575315755,
          4.541695256706066,
          5.066696864020983,
          3.1074686827074625,
          4.74698970293514,
          3.091826869545788,
          3.1956257763719886,
          3.8502796390964265,
          3.974522480483529,
          3.843848921495288,
          2.909008460485079,
          1.1390935384245742,
          2.6852848361090778,
          3.108911449181274,
          4.852842407156433,
          2.30755242118396,
          4.83552866742221,
          3.6785893989539975,
          5.254708925941115,
          3.8928914802112553,
          4.389455226416517,
          4.003325039023281,
          0.7895199078816915,
          4.403369830866465,
          2.648596770203317,
          2.367848224385222,
          3.0507129732180167,
          3.641497161540088,
          3.397363092819078,
          4.297686524285517,
          3.803364999065175,
          2.6334199887174443,
          3.634093727357596,
          3.467014066009709,
          1.4943108951995074,
          2.267251114447051,
          5.023934200606659,
          2.471750669720034,
          4.297737481971207,
          2.4369588757864635,
          3.656983926688144,
          5.000243360514445,
          2.412830960970926,
          5.314354141170213,
          4.0777750980104255,
          3.2750706813095327,
          3.634996006306897,
          3.9824715131070567,
          3.287701824074408,
          2.3133498845806395,
          3.557813698186695,
          3.350279287544909,
          2.9070949348220267,
          3.7927119551515887,
          4.029453828152192,
          4.978475793470261,
          2.6995620549722683,
          3.9306153266132897,
          3.456233823526301,
          2.1820169698233887,
          2.7095266269292764,
          4.594116864603191,
          4.25698328967803,
          3.784273087078304,
          1.62341960945622,
          3.4145062403052493,
          3.6060868889081727,
          3.275733705185027,
          5.007271986589903,
          3.37125811322392,
          5.453969474611709,
          3.7558693892629655,
          4.664258497238649,
          3.8066709485629935,
          5.049927474652407,
          2.871947536151015,
          3.2367328142505314,
          3.086337272317325,
          4.559699083258959,
          3.0102097779609496,
          1.80922959177631,
          3.594295099901167,
          3.049195743789432,
          3.6343402240734415,
          1.4823596439649784,
          2.921350140816143,
          1.8100798764120296,
          3.373104673991114,
          2.2147975193939367,
          5.454463277564527,
          3.201801722174991,
          4.729484541572504,
          3.205529764506833,
          3.802511438790271,
          4.116340467131812,
          5.462500764129899,
          1.4816166268553612,
          3.771420131891554,
          2.898299577888636,
          3.5690465158585187,
          1.0845853030221226,
          3.0234744460455456,
          5.56638489205681,
          2.3951681299791368,
          3.5048334855203,
          5.226687712532107,
          1.8382107022501144,
          3.363411393785737,
          2.957448756503683,
          2.0838141920346707,
          3.680847338174777,
          4.693732057983859,
          4.008352234634593,
          2.532044061507893,
          2.8709869096996963,
          3.515688256202335,
          4.06991661858986,
          1.2004838567566694,
          3.22945090446699,
          4.086566338485993,
          4.019470351595002,
          4.205903889533483,
          2.0181946292873114,
          4.243812816726185,
          4.626075291951958,
          3.00295702283384,
          1.823595182991803,
          4.078308001651641,
          3.689916615447592,
          2.190132185380053,
          3.2067566975868704,
          1.9770071278430592,
          3.349245382527182,
          3.532861579556475,
          2.9747368150832405,
          2.6181653103960847,
          2.8040136926903942,
          2.9644978762354017,
          4.3508878437244665,
          3.8724320418689104,
          4.615426306527649,
          2.727209453758874,
          3.537123879902206,
          3.12650948966,
          5.137816745950984,
          3.1286388557446334,
          3.1789524050534483,
          3.827375915107567,
          4.808320372869162,
          4.048510087289211,
          4.5433324132930855,
          3.4810621331251683,
          2.627624971434411,
          4.794312263402832,
          2.761861926301417,
          2.1596760229888288,
          4.1956144126751305,
          2.139403004485981,
          3.43455972254092,
          2.8684281816397523,
          3.137068975480682,
          3.5258064121952244,
          5.038107493844868,
          3.6122391519937,
          2.895075162804356,
          5.705940716620838,
          5.0470225513951,
          4.778973636034998,
          2.96655888465992,
          2.6689197733345025,
          3.620354588804087,
          4.238296188412728,
          2.4793398232086954,
          3.506967573635258,
          3.310150346576856,
          3.535802467873828,
          1.1304769604319769,
          3.2287176862706497,
          3.3459223210048927,
          3.2156668270219866,
          3.7905521368804433,
          3.5612152714310823,
          2.931619534651152,
          3.0465406206892376,
          2.739200466766662,
          2.783963128204522,
          4.330407444211276,
          3.41620997759013,
          3.3363393820041853,
          4.662845304002564,
          3.222080766760957,
          3.772969024644708,
          3.420149530164856,
          6.115198945760052,
          3.488029991222591,
          4.082855278762214,
          2.8296995751470893,
          5.405406467229508,
          3.451750709833103,
          2.935577273740486,
          4.75036007144446,
          3.5314023030588984,
          3.904479379627935,
          2.3990797897904117,
          2.847709026474498,
          3.781703565104839,
          4.34977841863416,
          4.574287716419565,
          4.620416384895069,
          3.0130325004194374,
          4.791108744558267,
          4.334001444341368,
          1.4288238768282668,
          4.137000388171067,
          2.910530822492482,
          3.982462318955639,
          3.701229217020273,
          5.8405058759314255,
          4.560396067343641,
          4.4900020655598345,
          3.859817998874009,
          3.0466201888222324,
          4.652854446136777,
          4.022102909528949,
          3.9694177591077393,
          3.7382251733253336,
          3.37668749953603,
          4.595522708601322,
          2.2239934582520533,
          4.288486770885737,
          2.11738254152726,
          0.9364975973183264,
          3.7620704427115657,
          4.00096358646012,
          3.5325171645393527,
          3.5350884276189447,
          4.158214652664192,
          3.549036057426973,
          4.129254688094536,
          2.2524459633808416,
          4.051382465375181,
          3.0720761414868827,
          4.331863026751083,
          3.937862643180167,
          0.2699010899842742,
          3.2794662600656097,
          2.5717778354776577,
          3.8260306175375134,
          2.402453833414224,
          4.02781384191709,
          3.629339915268192,
          3.189609941879746,
          3.393975043434297,
          2.574948470025072,
          3.4720213800343784,
          4.198349060814376,
          2.086348146609663,
          3.605933917733071,
          4.034386130357466,
          2.320550249888456,
          3.491093337009152,
          5.320093863780987,
          3.130538462464844,
          4.985204970864011,
          1.726962043188511,
          3.7016222869142337,
          1.7851739448879638,
          3.0226757598626595,
          4.041244969129275,
          3.13952693504287,
          2.562818810803233,
          2.3790764968915394,
          4.301996499354755,
          2.0947616690074846,
          4.089330841235956,
          3.5160510174718302,
          1.8208106181524435,
          4.183143661726128,
          3.393902788069372,
          4.4263640805293125,
          2.905238361446573,
          2.782757828499416,
          3.4470177927906893,
          4.712233578509766,
          1.2281124234144234,
          4.019051426800219,
          1.7073897286757314,
          3.1630919310737573,
          3.4470928961368963,
          2.208813678005546,
          5.412357839551379,
          2.768851943263104,
          3.746572973103466,
          3.5765259152594644,
          4.958264472618698,
          2.336484668112853,
          2.735159567082275
         ],
         "xaxis": "x",
         "yaxis": "y"
        }
       ],
       "layout": {
        "bargap": 0.1,
        "barmode": "relative",
        "legend": {
         "tracegroupgap": 0
        },
        "margin": {
         "t": 60
        },
        "template": {
         "data": {
          "bar": [
           {
            "error_x": {
             "color": "#2a3f5f"
            },
            "error_y": {
             "color": "#2a3f5f"
            },
            "marker": {
             "line": {
              "color": "#E5ECF6",
              "width": 0.5
             },
             "pattern": {
              "fillmode": "overlay",
              "size": 10,
              "solidity": 0.2
             }
            },
            "type": "bar"
           }
          ],
          "barpolar": [
           {
            "marker": {
             "line": {
              "color": "#E5ECF6",
              "width": 0.5
             },
             "pattern": {
              "fillmode": "overlay",
              "size": 10,
              "solidity": 0.2
             }
            },
            "type": "barpolar"
           }
          ],
          "carpet": [
           {
            "aaxis": {
             "endlinecolor": "#2a3f5f",
             "gridcolor": "white",
             "linecolor": "white",
             "minorgridcolor": "white",
             "startlinecolor": "#2a3f5f"
            },
            "baxis": {
             "endlinecolor": "#2a3f5f",
             "gridcolor": "white",
             "linecolor": "white",
             "minorgridcolor": "white",
             "startlinecolor": "#2a3f5f"
            },
            "type": "carpet"
           }
          ],
          "choropleth": [
           {
            "colorbar": {
             "outlinewidth": 0,
             "ticks": ""
            },
            "type": "choropleth"
           }
          ],
          "contour": [
           {
            "colorbar": {
             "outlinewidth": 0,
             "ticks": ""
            },
            "colorscale": [
             [
              0,
              "#0d0887"
             ],
             [
              0.1111111111111111,
              "#46039f"
             ],
             [
              0.2222222222222222,
              "#7201a8"
             ],
             [
              0.3333333333333333,
              "#9c179e"
             ],
             [
              0.4444444444444444,
              "#bd3786"
             ],
             [
              0.5555555555555556,
              "#d8576b"
             ],
             [
              0.6666666666666666,
              "#ed7953"
             ],
             [
              0.7777777777777778,
              "#fb9f3a"
             ],
             [
              0.8888888888888888,
              "#fdca26"
             ],
             [
              1,
              "#f0f921"
             ]
            ],
            "type": "contour"
           }
          ],
          "contourcarpet": [
           {
            "colorbar": {
             "outlinewidth": 0,
             "ticks": ""
            },
            "type": "contourcarpet"
           }
          ],
          "heatmap": [
           {
            "colorbar": {
             "outlinewidth": 0,
             "ticks": ""
            },
            "colorscale": [
             [
              0,
              "#0d0887"
             ],
             [
              0.1111111111111111,
              "#46039f"
             ],
             [
              0.2222222222222222,
              "#7201a8"
             ],
             [
              0.3333333333333333,
              "#9c179e"
             ],
             [
              0.4444444444444444,
              "#bd3786"
             ],
             [
              0.5555555555555556,
              "#d8576b"
             ],
             [
              0.6666666666666666,
              "#ed7953"
             ],
             [
              0.7777777777777778,
              "#fb9f3a"
             ],
             [
              0.8888888888888888,
              "#fdca26"
             ],
             [
              1,
              "#f0f921"
             ]
            ],
            "type": "heatmap"
           }
          ],
          "heatmapgl": [
           {
            "colorbar": {
             "outlinewidth": 0,
             "ticks": ""
            },
            "colorscale": [
             [
              0,
              "#0d0887"
             ],
             [
              0.1111111111111111,
              "#46039f"
             ],
             [
              0.2222222222222222,
              "#7201a8"
             ],
             [
              0.3333333333333333,
              "#9c179e"
             ],
             [
              0.4444444444444444,
              "#bd3786"
             ],
             [
              0.5555555555555556,
              "#d8576b"
             ],
             [
              0.6666666666666666,
              "#ed7953"
             ],
             [
              0.7777777777777778,
              "#fb9f3a"
             ],
             [
              0.8888888888888888,
              "#fdca26"
             ],
             [
              1,
              "#f0f921"
             ]
            ],
            "type": "heatmapgl"
           }
          ],
          "histogram": [
           {
            "marker": {
             "pattern": {
              "fillmode": "overlay",
              "size": 10,
              "solidity": 0.2
             }
            },
            "type": "histogram"
           }
          ],
          "histogram2d": [
           {
            "colorbar": {
             "outlinewidth": 0,
             "ticks": ""
            },
            "colorscale": [
             [
              0,
              "#0d0887"
             ],
             [
              0.1111111111111111,
              "#46039f"
             ],
             [
              0.2222222222222222,
              "#7201a8"
             ],
             [
              0.3333333333333333,
              "#9c179e"
             ],
             [
              0.4444444444444444,
              "#bd3786"
             ],
             [
              0.5555555555555556,
              "#d8576b"
             ],
             [
              0.6666666666666666,
              "#ed7953"
             ],
             [
              0.7777777777777778,
              "#fb9f3a"
             ],
             [
              0.8888888888888888,
              "#fdca26"
             ],
             [
              1,
              "#f0f921"
             ]
            ],
            "type": "histogram2d"
           }
          ],
          "histogram2dcontour": [
           {
            "colorbar": {
             "outlinewidth": 0,
             "ticks": ""
            },
            "colorscale": [
             [
              0,
              "#0d0887"
             ],
             [
              0.1111111111111111,
              "#46039f"
             ],
             [
              0.2222222222222222,
              "#7201a8"
             ],
             [
              0.3333333333333333,
              "#9c179e"
             ],
             [
              0.4444444444444444,
              "#bd3786"
             ],
             [
              0.5555555555555556,
              "#d8576b"
             ],
             [
              0.6666666666666666,
              "#ed7953"
             ],
             [
              0.7777777777777778,
              "#fb9f3a"
             ],
             [
              0.8888888888888888,
              "#fdca26"
             ],
             [
              1,
              "#f0f921"
             ]
            ],
            "type": "histogram2dcontour"
           }
          ],
          "mesh3d": [
           {
            "colorbar": {
             "outlinewidth": 0,
             "ticks": ""
            },
            "type": "mesh3d"
           }
          ],
          "parcoords": [
           {
            "line": {
             "colorbar": {
              "outlinewidth": 0,
              "ticks": ""
             }
            },
            "type": "parcoords"
           }
          ],
          "pie": [
           {
            "automargin": true,
            "type": "pie"
           }
          ],
          "scatter": [
           {
            "fillpattern": {
             "fillmode": "overlay",
             "size": 10,
             "solidity": 0.2
            },
            "type": "scatter"
           }
          ],
          "scatter3d": [
           {
            "line": {
             "colorbar": {
              "outlinewidth": 0,
              "ticks": ""
             }
            },
            "marker": {
             "colorbar": {
              "outlinewidth": 0,
              "ticks": ""
             }
            },
            "type": "scatter3d"
           }
          ],
          "scattercarpet": [
           {
            "marker": {
             "colorbar": {
              "outlinewidth": 0,
              "ticks": ""
             }
            },
            "type": "scattercarpet"
           }
          ],
          "scattergeo": [
           {
            "marker": {
             "colorbar": {
              "outlinewidth": 0,
              "ticks": ""
             }
            },
            "type": "scattergeo"
           }
          ],
          "scattergl": [
           {
            "marker": {
             "colorbar": {
              "outlinewidth": 0,
              "ticks": ""
             }
            },
            "type": "scattergl"
           }
          ],
          "scattermapbox": [
           {
            "marker": {
             "colorbar": {
              "outlinewidth": 0,
              "ticks": ""
             }
            },
            "type": "scattermapbox"
           }
          ],
          "scatterpolar": [
           {
            "marker": {
             "colorbar": {
              "outlinewidth": 0,
              "ticks": ""
             }
            },
            "type": "scatterpolar"
           }
          ],
          "scatterpolargl": [
           {
            "marker": {
             "colorbar": {
              "outlinewidth": 0,
              "ticks": ""
             }
            },
            "type": "scatterpolargl"
           }
          ],
          "scatterternary": [
           {
            "marker": {
             "colorbar": {
              "outlinewidth": 0,
              "ticks": ""
             }
            },
            "type": "scatterternary"
           }
          ],
          "surface": [
           {
            "colorbar": {
             "outlinewidth": 0,
             "ticks": ""
            },
            "colorscale": [
             [
              0,
              "#0d0887"
             ],
             [
              0.1111111111111111,
              "#46039f"
             ],
             [
              0.2222222222222222,
              "#7201a8"
             ],
             [
              0.3333333333333333,
              "#9c179e"
             ],
             [
              0.4444444444444444,
              "#bd3786"
             ],
             [
              0.5555555555555556,
              "#d8576b"
             ],
             [
              0.6666666666666666,
              "#ed7953"
             ],
             [
              0.7777777777777778,
              "#fb9f3a"
             ],
             [
              0.8888888888888888,
              "#fdca26"
             ],
             [
              1,
              "#f0f921"
             ]
            ],
            "type": "surface"
           }
          ],
          "table": [
           {
            "cells": {
             "fill": {
              "color": "#EBF0F8"
             },
             "line": {
              "color": "white"
             }
            },
            "header": {
             "fill": {
              "color": "#C8D4E3"
             },
             "line": {
              "color": "white"
             }
            },
            "type": "table"
           }
          ]
         },
         "layout": {
          "annotationdefaults": {
           "arrowcolor": "#2a3f5f",
           "arrowhead": 0,
           "arrowwidth": 1
          },
          "autotypenumbers": "strict",
          "coloraxis": {
           "colorbar": {
            "outlinewidth": 0,
            "ticks": ""
           }
          },
          "colorscale": {
           "diverging": [
            [
             0,
             "#8e0152"
            ],
            [
             0.1,
             "#c51b7d"
            ],
            [
             0.2,
             "#de77ae"
            ],
            [
             0.3,
             "#f1b6da"
            ],
            [
             0.4,
             "#fde0ef"
            ],
            [
             0.5,
             "#f7f7f7"
            ],
            [
             0.6,
             "#e6f5d0"
            ],
            [
             0.7,
             "#b8e186"
            ],
            [
             0.8,
             "#7fbc41"
            ],
            [
             0.9,
             "#4d9221"
            ],
            [
             1,
             "#276419"
            ]
           ],
           "sequential": [
            [
             0,
             "#0d0887"
            ],
            [
             0.1111111111111111,
             "#46039f"
            ],
            [
             0.2222222222222222,
             "#7201a8"
            ],
            [
             0.3333333333333333,
             "#9c179e"
            ],
            [
             0.4444444444444444,
             "#bd3786"
            ],
            [
             0.5555555555555556,
             "#d8576b"
            ],
            [
             0.6666666666666666,
             "#ed7953"
            ],
            [
             0.7777777777777778,
             "#fb9f3a"
            ],
            [
             0.8888888888888888,
             "#fdca26"
            ],
            [
             1,
             "#f0f921"
            ]
           ],
           "sequentialminus": [
            [
             0,
             "#0d0887"
            ],
            [
             0.1111111111111111,
             "#46039f"
            ],
            [
             0.2222222222222222,
             "#7201a8"
            ],
            [
             0.3333333333333333,
             "#9c179e"
            ],
            [
             0.4444444444444444,
             "#bd3786"
            ],
            [
             0.5555555555555556,
             "#d8576b"
            ],
            [
             0.6666666666666666,
             "#ed7953"
            ],
            [
             0.7777777777777778,
             "#fb9f3a"
            ],
            [
             0.8888888888888888,
             "#fdca26"
            ],
            [
             1,
             "#f0f921"
            ]
           ]
          },
          "colorway": [
           "#636efa",
           "#EF553B",
           "#00cc96",
           "#ab63fa",
           "#FFA15A",
           "#19d3f3",
           "#FF6692",
           "#B6E880",
           "#FF97FF",
           "#FECB52"
          ],
          "font": {
           "color": "#2a3f5f"
          },
          "geo": {
           "bgcolor": "white",
           "lakecolor": "white",
           "landcolor": "#E5ECF6",
           "showlakes": true,
           "showland": true,
           "subunitcolor": "white"
          },
          "hoverlabel": {
           "align": "left"
          },
          "hovermode": "closest",
          "mapbox": {
           "style": "light"
          },
          "paper_bgcolor": "white",
          "plot_bgcolor": "#E5ECF6",
          "polar": {
           "angularaxis": {
            "gridcolor": "white",
            "linecolor": "white",
            "ticks": ""
           },
           "bgcolor": "#E5ECF6",
           "radialaxis": {
            "gridcolor": "white",
            "linecolor": "white",
            "ticks": ""
           }
          },
          "scene": {
           "xaxis": {
            "backgroundcolor": "#E5ECF6",
            "gridcolor": "white",
            "gridwidth": 2,
            "linecolor": "white",
            "showbackground": true,
            "ticks": "",
            "zerolinecolor": "white"
           },
           "yaxis": {
            "backgroundcolor": "#E5ECF6",
            "gridcolor": "white",
            "gridwidth": 2,
            "linecolor": "white",
            "showbackground": true,
            "ticks": "",
            "zerolinecolor": "white"
           },
           "zaxis": {
            "backgroundcolor": "#E5ECF6",
            "gridcolor": "white",
            "gridwidth": 2,
            "linecolor": "white",
            "showbackground": true,
            "ticks": "",
            "zerolinecolor": "white"
           }
          },
          "shapedefaults": {
           "line": {
            "color": "#2a3f5f"
           }
          },
          "ternary": {
           "aaxis": {
            "gridcolor": "white",
            "linecolor": "white",
            "ticks": ""
           },
           "baxis": {
            "gridcolor": "white",
            "linecolor": "white",
            "ticks": ""
           },
           "bgcolor": "#E5ECF6",
           "caxis": {
            "gridcolor": "white",
            "linecolor": "white",
            "ticks": ""
           }
          },
          "title": {
           "x": 0.05
          },
          "xaxis": {
           "automargin": true,
           "gridcolor": "white",
           "linecolor": "white",
           "ticks": "",
           "title": {
            "standoff": 15
           },
           "zerolinecolor": "white",
           "zerolinewidth": 2
          },
          "yaxis": {
           "automargin": true,
           "gridcolor": "white",
           "linecolor": "white",
           "ticks": "",
           "title": {
            "standoff": 15
           },
           "zerolinecolor": "white",
           "zerolinewidth": 2
          }
         }
        },
        "xaxis": {
         "anchor": "y",
         "domain": [
          0,
          1
         ],
         "title": {
          "text": "Length of Membership"
         }
        },
        "yaxis": {
         "anchor": "x",
         "domain": [
          0,
          1
         ],
         "title": {
          "text": "count"
         }
        }
       }
      },
      "text/html": [
       "<div>                            <div id=\"650d0001-5349-489d-8b67-d7f4abcd1ff8\" class=\"plotly-graph-div\" style=\"height:525px; width:100%;\"></div>            <script type=\"text/javascript\">                require([\"plotly\"], function(Plotly) {                    window.PLOTLYENV=window.PLOTLYENV || {};                                    if (document.getElementById(\"650d0001-5349-489d-8b67-d7f4abcd1ff8\")) {                    Plotly.newPlot(                        \"650d0001-5349-489d-8b67-d7f4abcd1ff8\",                        [{\"alignmentgroup\":\"True\",\"bingroup\":\"x\",\"hovertemplate\":\"Length of Membership=%{x}<br>count=%{y}<extra></extra>\",\"legendgroup\":\"\",\"marker\":{\"color\":\"#636efa\",\"pattern\":{\"shape\":\"\"}},\"name\":\"\",\"offsetgroup\":\"\",\"orientation\":\"v\",\"showlegend\":false,\"x\":[4.082620632952961,2.66403418213262,4.104543202376424,3.120178782748092,4.446308318351435,5.493507201364199,4.685017246570912,4.4342734348999375,3.2734335777477144,3.202806071553459,2.482607770510596,3.71320920294043,4.046423164299585,3.918541839158999,2.494543646659249,3.357846842326294,3.1361327164897803,2.420806160901484,1.516575580831944,4.064548550437977,4.599937357614995,1.559151939957077,2.2451477874052825,3.919302308553184,5.705153970601026,2.7217359920452187,4.648199316428601,2.996364526268539,3.923488745527437,4.742577519573315,3.062368145311689,3.471413452477678,4.343062915388998,2.8200972339734696,4.1245852967146535,3.649286157714702,1.8473704233395083,3.452388582630727,4.650491269094463,4.22243622534277,4.671275460906252,4.646119976606155,4.214495086037866,4.643258549800133,2.258686386946843,3.663105491283854,3.8768751769237673,4.113226122724209,3.202531199210734,3.198399271684906,5.97676812602,2.952668957921736,2.0948917061051766,3.85547168456418,2.874596910303952,3.3920504890738385,2.995761182613056,3.315224753915403,3.4719191365417483,3.9705556280753487,4.639320331857264,5.081210092491108,4.802630630523376,3.414688422504897,3.462298847460372,5.377593583586978,4.001786345798084,3.4395905595500764,2.7795207192736093,3.5526497674265176,2.6022871120328714,4.694322274442824,3.4015223445155094,3.8515788003584657,3.25811288288828,3.120568914816974,2.837943164069798,4.470282584120023,4.442054329011166,3.164943995285113,3.7517345520890513,3.159754443950926,4.130562809236323,1.9140899242311,4.396651901097083,5.113319474870622,2.669941624279581,3.3664637433729325,4.571213023779052,3.917451119136939,2.476139050596411,4.125584363255396,3.9972553776226674,1.3626740800013843,4.193324635532072,3.871003400176416,4.08180269478151,4.252006105620936,3.911708668370663,3.021671821710012,3.184618661620886,2.877224878259828,2.5869679851624765,2.9696402266327597,3.4288599039280125,2.926940235492512,3.781823039343296,3.004742535925674,3.854473855602962,3.318822278930894,3.361814624383144,3.722561172893833,3.5435470501829984,2.789461516374708,5.4859767341605234,2.59418972057778,2.753424168758119,5.004820577490747,3.873337568743252,3.79872531905254,3.292797662575647,4.716104987209577,4.018726609737513,3.637701279515837,3.834169666632599,4.531986606666632,4.106055151602658,3.2182653850978555,3.283663455404016,2.924020724598205,3.90525030898213,4.920318406118319,2.473596120847858,4.131276648377655,1.7677307075942403,2.72410820200549,3.897115859957253,2.491671541288354,3.8634254422050343,3.5786339003939878,3.9588922643660966,3.251741770306888,3.914384667246393,1.4435150746515455,2.910037916541069,3.3455709758422434,3.0895277822700096,4.514122441132637,1.8258846690261428,3.993656512525085,2.652158304851241,6.401228837806773,5.391275125020632,6.076653638440144,3.8648607392342784,2.941410754428091,5.084861308602489,6.922689335035807,3.6043985602569495,3.7849321101304056,3.3091823280429797,0.9686221157417688,3.768561962709896,3.585160635161344,4.520353377496559,3.6758488000184415,2.873007508505152,4.055775961742958,3.015175298743708,4.717102512825834,2.926396448726688,2.361086946869883,4.968742673728142,0.8015157200042076,3.669225611315444,1.7157771665531147,4.773503047345896,4.087837272921703,4.131755039569861,3.4427992020016864,4.724027439824315,3.2309738432875563,2.972271382079821,3.182329731786818,4.806349618785283,3.6203649883552,3.261324744787093,3.597459968849926,4.789201624179895,3.3164647447029107,4.632460945972205,3.308443000674604,4.015986640445781,4.369366793790984,2.56663984381683,3.5190324339539223,1.503854421225295,5.039955263662929,4.47871260846301,3.361612984538193,1.9207154781756468,4.330714461860564,3.811248170807232,3.0887639575315755,4.541695256706066,5.066696864020983,3.1074686827074625,4.74698970293514,3.091826869545788,3.1956257763719886,3.8502796390964265,3.974522480483529,3.843848921495288,2.909008460485079,1.1390935384245742,2.6852848361090778,3.108911449181274,4.852842407156433,2.30755242118396,4.83552866742221,3.6785893989539975,5.254708925941115,3.8928914802112553,4.389455226416517,4.003325039023281,0.7895199078816915,4.403369830866465,2.648596770203317,2.367848224385222,3.0507129732180167,3.641497161540088,3.397363092819078,4.297686524285517,3.803364999065175,2.6334199887174443,3.634093727357596,3.467014066009709,1.4943108951995074,2.267251114447051,5.023934200606659,2.471750669720034,4.297737481971207,2.4369588757864635,3.656983926688144,5.000243360514445,2.412830960970926,5.314354141170213,4.0777750980104255,3.2750706813095327,3.634996006306897,3.9824715131070567,3.287701824074408,2.3133498845806395,3.557813698186695,3.350279287544909,2.9070949348220267,3.7927119551515887,4.029453828152192,4.978475793470261,2.6995620549722683,3.9306153266132897,3.456233823526301,2.1820169698233887,2.7095266269292764,4.594116864603191,4.25698328967803,3.784273087078304,1.62341960945622,3.4145062403052493,3.6060868889081727,3.275733705185027,5.007271986589903,3.37125811322392,5.453969474611709,3.7558693892629655,4.664258497238649,3.8066709485629935,5.049927474652407,2.871947536151015,3.2367328142505314,3.086337272317325,4.559699083258959,3.0102097779609496,1.80922959177631,3.594295099901167,3.049195743789432,3.6343402240734415,1.4823596439649784,2.921350140816143,1.8100798764120296,3.373104673991114,2.2147975193939367,5.454463277564527,3.201801722174991,4.729484541572504,3.205529764506833,3.802511438790271,4.116340467131812,5.462500764129899,1.4816166268553612,3.771420131891554,2.898299577888636,3.5690465158585187,1.0845853030221226,3.0234744460455456,5.56638489205681,2.3951681299791368,3.5048334855203,5.226687712532107,1.8382107022501144,3.363411393785737,2.957448756503683,2.0838141920346707,3.680847338174777,4.693732057983859,4.008352234634593,2.532044061507893,2.8709869096996963,3.515688256202335,4.06991661858986,1.2004838567566694,3.22945090446699,4.086566338485993,4.019470351595002,4.205903889533483,2.0181946292873114,4.243812816726185,4.626075291951958,3.00295702283384,1.823595182991803,4.078308001651641,3.689916615447592,2.190132185380053,3.2067566975868704,1.9770071278430592,3.349245382527182,3.532861579556475,2.9747368150832405,2.6181653103960847,2.8040136926903942,2.9644978762354017,4.3508878437244665,3.8724320418689104,4.615426306527649,2.727209453758874,3.537123879902206,3.12650948966,5.137816745950984,3.1286388557446334,3.1789524050534483,3.827375915107567,4.808320372869162,4.048510087289211,4.5433324132930855,3.4810621331251683,2.627624971434411,4.794312263402832,2.761861926301417,2.1596760229888288,4.1956144126751305,2.139403004485981,3.43455972254092,2.8684281816397523,3.137068975480682,3.5258064121952244,5.038107493844868,3.6122391519937,2.895075162804356,5.705940716620838,5.0470225513951,4.778973636034998,2.96655888465992,2.6689197733345025,3.620354588804087,4.238296188412728,2.4793398232086954,3.506967573635258,3.310150346576856,3.535802467873828,1.1304769604319769,3.2287176862706497,3.3459223210048927,3.2156668270219866,3.7905521368804433,3.5612152714310823,2.931619534651152,3.0465406206892376,2.739200466766662,2.783963128204522,4.330407444211276,3.41620997759013,3.3363393820041853,4.662845304002564,3.222080766760957,3.772969024644708,3.420149530164856,6.115198945760052,3.488029991222591,4.082855278762214,2.8296995751470893,5.405406467229508,3.451750709833103,2.935577273740486,4.75036007144446,3.5314023030588984,3.904479379627935,2.3990797897904117,2.847709026474498,3.781703565104839,4.34977841863416,4.574287716419565,4.620416384895069,3.0130325004194374,4.791108744558267,4.334001444341368,1.4288238768282668,4.137000388171067,2.910530822492482,3.982462318955639,3.701229217020273,5.8405058759314255,4.560396067343641,4.4900020655598345,3.859817998874009,3.0466201888222324,4.652854446136777,4.022102909528949,3.9694177591077393,3.7382251733253336,3.37668749953603,4.595522708601322,2.2239934582520533,4.288486770885737,2.11738254152726,0.9364975973183264,3.7620704427115657,4.00096358646012,3.5325171645393527,3.5350884276189447,4.158214652664192,3.549036057426973,4.129254688094536,2.2524459633808416,4.051382465375181,3.0720761414868827,4.331863026751083,3.937862643180167,0.2699010899842742,3.2794662600656097,2.5717778354776577,3.8260306175375134,2.402453833414224,4.02781384191709,3.629339915268192,3.189609941879746,3.393975043434297,2.574948470025072,3.4720213800343784,4.198349060814376,2.086348146609663,3.605933917733071,4.034386130357466,2.320550249888456,3.491093337009152,5.320093863780987,3.130538462464844,4.985204970864011,1.726962043188511,3.7016222869142337,1.7851739448879638,3.0226757598626595,4.041244969129275,3.13952693504287,2.562818810803233,2.3790764968915394,4.301996499354755,2.0947616690074846,4.089330841235956,3.5160510174718302,1.8208106181524435,4.183143661726128,3.393902788069372,4.4263640805293125,2.905238361446573,2.782757828499416,3.4470177927906893,4.712233578509766,1.2281124234144234,4.019051426800219,1.7073897286757314,3.1630919310737573,3.4470928961368963,2.208813678005546,5.412357839551379,2.768851943263104,3.746572973103466,3.5765259152594644,4.958264472618698,2.336484668112853,2.735159567082275],\"xaxis\":\"x\",\"yaxis\":\"y\",\"type\":\"histogram\"}],                        {\"template\":{\"data\":{\"histogram2dcontour\":[{\"type\":\"histogram2dcontour\",\"colorbar\":{\"outlinewidth\":0,\"ticks\":\"\"},\"colorscale\":[[0.0,\"#0d0887\"],[0.1111111111111111,\"#46039f\"],[0.2222222222222222,\"#7201a8\"],[0.3333333333333333,\"#9c179e\"],[0.4444444444444444,\"#bd3786\"],[0.5555555555555556,\"#d8576b\"],[0.6666666666666666,\"#ed7953\"],[0.7777777777777778,\"#fb9f3a\"],[0.8888888888888888,\"#fdca26\"],[1.0,\"#f0f921\"]]}],\"choropleth\":[{\"type\":\"choropleth\",\"colorbar\":{\"outlinewidth\":0,\"ticks\":\"\"}}],\"histogram2d\":[{\"type\":\"histogram2d\",\"colorbar\":{\"outlinewidth\":0,\"ticks\":\"\"},\"colorscale\":[[0.0,\"#0d0887\"],[0.1111111111111111,\"#46039f\"],[0.2222222222222222,\"#7201a8\"],[0.3333333333333333,\"#9c179e\"],[0.4444444444444444,\"#bd3786\"],[0.5555555555555556,\"#d8576b\"],[0.6666666666666666,\"#ed7953\"],[0.7777777777777778,\"#fb9f3a\"],[0.8888888888888888,\"#fdca26\"],[1.0,\"#f0f921\"]]}],\"heatmap\":[{\"type\":\"heatmap\",\"colorbar\":{\"outlinewidth\":0,\"ticks\":\"\"},\"colorscale\":[[0.0,\"#0d0887\"],[0.1111111111111111,\"#46039f\"],[0.2222222222222222,\"#7201a8\"],[0.3333333333333333,\"#9c179e\"],[0.4444444444444444,\"#bd3786\"],[0.5555555555555556,\"#d8576b\"],[0.6666666666666666,\"#ed7953\"],[0.7777777777777778,\"#fb9f3a\"],[0.8888888888888888,\"#fdca26\"],[1.0,\"#f0f921\"]]}],\"heatmapgl\":[{\"type\":\"heatmapgl\",\"colorbar\":{\"outlinewidth\":0,\"ticks\":\"\"},\"colorscale\":[[0.0,\"#0d0887\"],[0.1111111111111111,\"#46039f\"],[0.2222222222222222,\"#7201a8\"],[0.3333333333333333,\"#9c179e\"],[0.4444444444444444,\"#bd3786\"],[0.5555555555555556,\"#d8576b\"],[0.6666666666666666,\"#ed7953\"],[0.7777777777777778,\"#fb9f3a\"],[0.8888888888888888,\"#fdca26\"],[1.0,\"#f0f921\"]]}],\"contourcarpet\":[{\"type\":\"contourcarpet\",\"colorbar\":{\"outlinewidth\":0,\"ticks\":\"\"}}],\"contour\":[{\"type\":\"contour\",\"colorbar\":{\"outlinewidth\":0,\"ticks\":\"\"},\"colorscale\":[[0.0,\"#0d0887\"],[0.1111111111111111,\"#46039f\"],[0.2222222222222222,\"#7201a8\"],[0.3333333333333333,\"#9c179e\"],[0.4444444444444444,\"#bd3786\"],[0.5555555555555556,\"#d8576b\"],[0.6666666666666666,\"#ed7953\"],[0.7777777777777778,\"#fb9f3a\"],[0.8888888888888888,\"#fdca26\"],[1.0,\"#f0f921\"]]}],\"surface\":[{\"type\":\"surface\",\"colorbar\":{\"outlinewidth\":0,\"ticks\":\"\"},\"colorscale\":[[0.0,\"#0d0887\"],[0.1111111111111111,\"#46039f\"],[0.2222222222222222,\"#7201a8\"],[0.3333333333333333,\"#9c179e\"],[0.4444444444444444,\"#bd3786\"],[0.5555555555555556,\"#d8576b\"],[0.6666666666666666,\"#ed7953\"],[0.7777777777777778,\"#fb9f3a\"],[0.8888888888888888,\"#fdca26\"],[1.0,\"#f0f921\"]]}],\"mesh3d\":[{\"type\":\"mesh3d\",\"colorbar\":{\"outlinewidth\":0,\"ticks\":\"\"}}],\"scatter\":[{\"fillpattern\":{\"fillmode\":\"overlay\",\"size\":10,\"solidity\":0.2},\"type\":\"scatter\"}],\"parcoords\":[{\"type\":\"parcoords\",\"line\":{\"colorbar\":{\"outlinewidth\":0,\"ticks\":\"\"}}}],\"scatterpolargl\":[{\"type\":\"scatterpolargl\",\"marker\":{\"colorbar\":{\"outlinewidth\":0,\"ticks\":\"\"}}}],\"bar\":[{\"error_x\":{\"color\":\"#2a3f5f\"},\"error_y\":{\"color\":\"#2a3f5f\"},\"marker\":{\"line\":{\"color\":\"#E5ECF6\",\"width\":0.5},\"pattern\":{\"fillmode\":\"overlay\",\"size\":10,\"solidity\":0.2}},\"type\":\"bar\"}],\"scattergeo\":[{\"type\":\"scattergeo\",\"marker\":{\"colorbar\":{\"outlinewidth\":0,\"ticks\":\"\"}}}],\"scatterpolar\":[{\"type\":\"scatterpolar\",\"marker\":{\"colorbar\":{\"outlinewidth\":0,\"ticks\":\"\"}}}],\"histogram\":[{\"marker\":{\"pattern\":{\"fillmode\":\"overlay\",\"size\":10,\"solidity\":0.2}},\"type\":\"histogram\"}],\"scattergl\":[{\"type\":\"scattergl\",\"marker\":{\"colorbar\":{\"outlinewidth\":0,\"ticks\":\"\"}}}],\"scatter3d\":[{\"type\":\"scatter3d\",\"line\":{\"colorbar\":{\"outlinewidth\":0,\"ticks\":\"\"}},\"marker\":{\"colorbar\":{\"outlinewidth\":0,\"ticks\":\"\"}}}],\"scattermapbox\":[{\"type\":\"scattermapbox\",\"marker\":{\"colorbar\":{\"outlinewidth\":0,\"ticks\":\"\"}}}],\"scatterternary\":[{\"type\":\"scatterternary\",\"marker\":{\"colorbar\":{\"outlinewidth\":0,\"ticks\":\"\"}}}],\"scattercarpet\":[{\"type\":\"scattercarpet\",\"marker\":{\"colorbar\":{\"outlinewidth\":0,\"ticks\":\"\"}}}],\"carpet\":[{\"aaxis\":{\"endlinecolor\":\"#2a3f5f\",\"gridcolor\":\"white\",\"linecolor\":\"white\",\"minorgridcolor\":\"white\",\"startlinecolor\":\"#2a3f5f\"},\"baxis\":{\"endlinecolor\":\"#2a3f5f\",\"gridcolor\":\"white\",\"linecolor\":\"white\",\"minorgridcolor\":\"white\",\"startlinecolor\":\"#2a3f5f\"},\"type\":\"carpet\"}],\"table\":[{\"cells\":{\"fill\":{\"color\":\"#EBF0F8\"},\"line\":{\"color\":\"white\"}},\"header\":{\"fill\":{\"color\":\"#C8D4E3\"},\"line\":{\"color\":\"white\"}},\"type\":\"table\"}],\"barpolar\":[{\"marker\":{\"line\":{\"color\":\"#E5ECF6\",\"width\":0.5},\"pattern\":{\"fillmode\":\"overlay\",\"size\":10,\"solidity\":0.2}},\"type\":\"barpolar\"}],\"pie\":[{\"automargin\":true,\"type\":\"pie\"}]},\"layout\":{\"autotypenumbers\":\"strict\",\"colorway\":[\"#636efa\",\"#EF553B\",\"#00cc96\",\"#ab63fa\",\"#FFA15A\",\"#19d3f3\",\"#FF6692\",\"#B6E880\",\"#FF97FF\",\"#FECB52\"],\"font\":{\"color\":\"#2a3f5f\"},\"hovermode\":\"closest\",\"hoverlabel\":{\"align\":\"left\"},\"paper_bgcolor\":\"white\",\"plot_bgcolor\":\"#E5ECF6\",\"polar\":{\"bgcolor\":\"#E5ECF6\",\"angularaxis\":{\"gridcolor\":\"white\",\"linecolor\":\"white\",\"ticks\":\"\"},\"radialaxis\":{\"gridcolor\":\"white\",\"linecolor\":\"white\",\"ticks\":\"\"}},\"ternary\":{\"bgcolor\":\"#E5ECF6\",\"aaxis\":{\"gridcolor\":\"white\",\"linecolor\":\"white\",\"ticks\":\"\"},\"baxis\":{\"gridcolor\":\"white\",\"linecolor\":\"white\",\"ticks\":\"\"},\"caxis\":{\"gridcolor\":\"white\",\"linecolor\":\"white\",\"ticks\":\"\"}},\"coloraxis\":{\"colorbar\":{\"outlinewidth\":0,\"ticks\":\"\"}},\"colorscale\":{\"sequential\":[[0.0,\"#0d0887\"],[0.1111111111111111,\"#46039f\"],[0.2222222222222222,\"#7201a8\"],[0.3333333333333333,\"#9c179e\"],[0.4444444444444444,\"#bd3786\"],[0.5555555555555556,\"#d8576b\"],[0.6666666666666666,\"#ed7953\"],[0.7777777777777778,\"#fb9f3a\"],[0.8888888888888888,\"#fdca26\"],[1.0,\"#f0f921\"]],\"sequentialminus\":[[0.0,\"#0d0887\"],[0.1111111111111111,\"#46039f\"],[0.2222222222222222,\"#7201a8\"],[0.3333333333333333,\"#9c179e\"],[0.4444444444444444,\"#bd3786\"],[0.5555555555555556,\"#d8576b\"],[0.6666666666666666,\"#ed7953\"],[0.7777777777777778,\"#fb9f3a\"],[0.8888888888888888,\"#fdca26\"],[1.0,\"#f0f921\"]],\"diverging\":[[0,\"#8e0152\"],[0.1,\"#c51b7d\"],[0.2,\"#de77ae\"],[0.3,\"#f1b6da\"],[0.4,\"#fde0ef\"],[0.5,\"#f7f7f7\"],[0.6,\"#e6f5d0\"],[0.7,\"#b8e186\"],[0.8,\"#7fbc41\"],[0.9,\"#4d9221\"],[1,\"#276419\"]]},\"xaxis\":{\"gridcolor\":\"white\",\"linecolor\":\"white\",\"ticks\":\"\",\"title\":{\"standoff\":15},\"zerolinecolor\":\"white\",\"automargin\":true,\"zerolinewidth\":2},\"yaxis\":{\"gridcolor\":\"white\",\"linecolor\":\"white\",\"ticks\":\"\",\"title\":{\"standoff\":15},\"zerolinecolor\":\"white\",\"automargin\":true,\"zerolinewidth\":2},\"scene\":{\"xaxis\":{\"backgroundcolor\":\"#E5ECF6\",\"gridcolor\":\"white\",\"linecolor\":\"white\",\"showbackground\":true,\"ticks\":\"\",\"zerolinecolor\":\"white\",\"gridwidth\":2},\"yaxis\":{\"backgroundcolor\":\"#E5ECF6\",\"gridcolor\":\"white\",\"linecolor\":\"white\",\"showbackground\":true,\"ticks\":\"\",\"zerolinecolor\":\"white\",\"gridwidth\":2},\"zaxis\":{\"backgroundcolor\":\"#E5ECF6\",\"gridcolor\":\"white\",\"linecolor\":\"white\",\"showbackground\":true,\"ticks\":\"\",\"zerolinecolor\":\"white\",\"gridwidth\":2}},\"shapedefaults\":{\"line\":{\"color\":\"#2a3f5f\"}},\"annotationdefaults\":{\"arrowcolor\":\"#2a3f5f\",\"arrowhead\":0,\"arrowwidth\":1},\"geo\":{\"bgcolor\":\"white\",\"landcolor\":\"#E5ECF6\",\"subunitcolor\":\"white\",\"showland\":true,\"showlakes\":true,\"lakecolor\":\"white\"},\"title\":{\"x\":0.05},\"mapbox\":{\"style\":\"light\"}}},\"xaxis\":{\"anchor\":\"y\",\"domain\":[0.0,1.0],\"title\":{\"text\":\"Length of Membership\"}},\"yaxis\":{\"anchor\":\"x\",\"domain\":[0.0,1.0],\"title\":{\"text\":\"count\"}},\"legend\":{\"tracegroupgap\":0},\"margin\":{\"t\":60},\"barmode\":\"relative\",\"bargap\":0.1},                        {\"responsive\": true}                    ).then(function(){\n",
       "                            \n",
       "var gd = document.getElementById('650d0001-5349-489d-8b67-d7f4abcd1ff8');\n",
       "var x = new MutationObserver(function (mutations, observer) {{\n",
       "        var display = window.getComputedStyle(gd).display;\n",
       "        if (!display || display === 'none') {{\n",
       "            console.log([gd, 'removed!']);\n",
       "            Plotly.purge(gd);\n",
       "            observer.disconnect();\n",
       "        }}\n",
       "}});\n",
       "\n",
       "// Listen for the removal of the full notebook cells\n",
       "var notebookContainer = gd.closest('#notebook-container');\n",
       "if (notebookContainer) {{\n",
       "    x.observe(notebookContainer, {childList: true});\n",
       "}}\n",
       "\n",
       "// Listen for the clearing of the current output cell\n",
       "var outputEl = gd.closest('.output');\n",
       "if (outputEl) {{\n",
       "    x.observe(outputEl, {childList: true});\n",
       "}}\n",
       "\n",
       "                        })                };                });            </script>        </div>"
      ]
     },
     "metadata": {},
     "output_type": "display_data"
    }
   ],
   "source": [
    "fig = px.histogram(df, x='Length of Membership')\n",
    "fig.update_layout(bargap=0.1)\n",
    "fig.show()"
   ]
  },
  {
   "cell_type": "markdown",
   "id": "77543bd6",
   "metadata": {},
   "source": [
    "#### Here, we can see that majority of the people have length of membership between 3 to 4 years"
   ]
  },
  {
   "cell_type": "code",
   "execution_count": 38,
   "id": "64cc655e",
   "metadata": {},
   "outputs": [
    {
     "data": {
      "image/png": "[encoded data removed]",
      "text/plain": [
       "<Figure size 640x480 with 1 Axes>"
      ]
     },
     "metadata": {},
     "output_type": "display_data"
    }
   ],
   "source": [
    "sns.regplot(x=\"Length of Membership\", y=\"Yearly Amount Spent\", data=df, line_kws={\"color\":\"r\",\"alpha\":0.7,\"lw\":2});"
   ]
  },
  {
   "cell_type": "code",
   "execution_count": 40,
   "id": "7ab2553a",
   "metadata": {},
   "outputs": [
    {
     "data": {
      "image/png": "[encoded data removed]",
      "text/plain": [
       "<Figure size 640x480 with 1 Axes>"
      ]
     },
     "metadata": {},
     "output_type": "display_data"
    }
   ],
   "source": [
    "sns.regplot(x=\"Time on App\", y=\"Yearly Amount Spent\", data=df, line_kws={\"color\":\"r\",\"alpha\":0.7,\"lw\":2});"
   ]
  },
  {
   "cell_type": "code",
   "execution_count": 42,
   "id": "3f56e017",
   "metadata": {},
   "outputs": [
    {
     "data": {
      "image/png": "[encoded data removed]",
      "text/plain": [
       "<Figure size 640x480 with 1 Axes>"
      ]
     },
     "metadata": {},
     "output_type": "display_data"
    }
   ],
   "source": [
    "sns.regplot(x=\"Avg. Session Length\", y=\"Yearly Amount Spent\", data=df, line_kws={\"color\":\"r\",\"alpha\":0.7,\"lw\":2});"
   ]
  },
  {
   "cell_type": "markdown",
   "id": "6d5155ee",
   "metadata": {},
   "source": [
    "#### From the above 3 plots we can see that these have linear relationship with yearly amount spent. So we will use linear regression to train the model and predict future trends."
   ]
  },
  {
   "cell_type": "markdown",
   "id": "c2f6531c",
   "metadata": {},
   "source": [
    "## <font color='red'> Model </font>"
   ]
  },
  {
   "cell_type": "markdown",
   "id": "c9772686",
   "metadata": {},
   "source": [
    "In this case, our linear regression equation will look like: <b>amount = w1 x Length of Membership + w2 x Time on App + w3 x Avg. Session Length + b </b> where,\n",
    "\n",
    "w1 = weight of coeff 1 <br>\n",
    "w2 = weight of coeff 2 <br>\n",
    "w3 = weight of coeff 3 <br>\n",
    "b = intercept of the line"
   ]
  },
  {
   "cell_type": "code",
   "execution_count": 102,
   "id": "a073d19d",
   "metadata": {},
   "outputs": [],
   "source": [
    "inputs = df[['Avg. Session Length','Time on App','Time on Website','Length of Membership']]"
   ]
  },
  {
   "cell_type": "code",
   "execution_count": 103,
   "id": "c122abf2",
   "metadata": {},
   "outputs": [],
   "source": [
    "target = df['Yearly Amount Spent']"
   ]
  },
  {
   "cell_type": "code",
   "execution_count": 104,
   "id": "197a4ef5",
   "metadata": {},
   "outputs": [],
   "source": [
    "from sklearn.model_selection import train_test_split"
   ]
  },
  {
   "cell_type": "code",
   "execution_count": 190,
   "id": "bb669d72",
   "metadata": {},
   "outputs": [],
   "source": [
    "X_train, X_test, y_train, y_test = train_test_split(inputs, target, test_size=0.3, random_state=101)"
   ]
  },
  {
   "cell_type": "markdown",
   "id": "50ad8810",
   "metadata": {},
   "source": [
    "### Training the model"
   ]
  },
  {
   "cell_type": "code",
   "execution_count": 191,
   "id": "cff58ab6",
   "metadata": {},
   "outputs": [],
   "source": [
    "from sklearn.linear_model import LinearRegression"
   ]
  },
  {
   "cell_type": "code",
   "execution_count": 192,
   "id": "0d842e65",
   "metadata": {},
   "outputs": [],
   "source": [
    "lm = LinearRegression()"
   ]
  },
  {
   "cell_type": "code",
   "execution_count": 193,
   "id": "d87cb63b",
   "metadata": {},
   "outputs": [
    {
     "data": {
      "text/html": [
       "<style>#sk-container-id-12 {color: black;background-color: white;}#sk-container-id-12 pre{padding: 0;}#sk-container-id-12 div.sk-toggleable {background-color: white;}#sk-container-id-12 label.sk-toggleable__label {cursor: pointer;display: block;width: 100%;margin-bottom: 0;padding: 0.3em;box-sizing: border-box;text-align: center;}#sk-container-id-12 label.sk-toggleable__label-arrow:before {content: \"▸\";float: left;margin-right: 0.25em;color: #696969;}#sk-container-id-12 label.sk-toggleable__label-arrow:hover:before {color: black;}#sk-container-id-12 div.sk-estimator:hover label.sk-toggleable__label-arrow:before {color: black;}#sk-container-id-12 div.sk-toggleable__content {max-height: 0;max-width: 0;overflow: hidden;text-align: left;background-color: #f0f8ff;}#sk-container-id-12 div.sk-toggleable__content pre {margin: 0.2em;color: black;border-radius: 0.25em;background-color: #f0f8ff;}#sk-container-id-12 input.sk-toggleable__control:checked~div.sk-toggleable__content {max-height: 200px;max-width: 100%;overflow: auto;}#sk-container-id-12 input.sk-toggleable__control:checked~label.sk-toggleable__label-arrow:before {content: \"▾\";}#sk-container-id-12 div.sk-estimator input.sk-toggleable__control:checked~label.sk-toggleable__label {background-color: #d4ebff;}#sk-container-id-12 div.sk-label input.sk-toggleable__control:checked~label.sk-toggleable__label {background-color: #d4ebff;}#sk-container-id-12 input.sk-hidden--visually {border: 0;clip: rect(1px 1px 1px 1px);clip: rect(1px, 1px, 1px, 1px);height: 1px;margin: -1px;overflow: hidden;padding: 0;position: absolute;width: 1px;}#sk-container-id-12 div.sk-estimator {font-family: monospace;background-color: #f0f8ff;border: 1px dotted black;border-radius: 0.25em;box-sizing: border-box;margin-bottom: 0.5em;}#sk-container-id-12 div.sk-estimator:hover {background-color: #d4ebff;}#sk-container-id-12 div.sk-parallel-item::after {content: \"\";width: 100%;border-bottom: 1px solid gray;flex-grow: 1;}#sk-container-id-12 div.sk-label:hover label.sk-toggleable__label {background-color: #d4ebff;}#sk-container-id-12 div.sk-serial::before {content: \"\";position: absolute;border-left: 1px solid gray;box-sizing: border-box;top: 0;bottom: 0;left: 50%;z-index: 0;}#sk-container-id-12 div.sk-serial {display: flex;flex-direction: column;align-items: center;background-color: white;padding-right: 0.2em;padding-left: 0.2em;position: relative;}#sk-container-id-12 div.sk-item {position: relative;z-index: 1;}#sk-container-id-12 div.sk-parallel {display: flex;align-items: stretch;justify-content: center;background-color: white;position: relative;}#sk-container-id-12 div.sk-item::before, #sk-container-id-12 div.sk-parallel-item::before {content: \"\";position: absolute;border-left: 1px solid gray;box-sizing: border-box;top: 0;bottom: 0;left: 50%;z-index: -1;}#sk-container-id-12 div.sk-parallel-item {display: flex;flex-direction: column;z-index: 1;position: relative;background-color: white;}#sk-container-id-12 div.sk-parallel-item:first-child::after {align-self: flex-end;width: 50%;}#sk-container-id-12 div.sk-parallel-item:last-child::after {align-self: flex-start;width: 50%;}#sk-container-id-12 div.sk-parallel-item:only-child::after {width: 0;}#sk-container-id-12 div.sk-dashed-wrapped {border: 1px dashed gray;margin: 0 0.4em 0.5em 0.4em;box-sizing: border-box;padding-bottom: 0.4em;background-color: white;}#sk-container-id-12 div.sk-label label {font-family: monospace;font-weight: bold;display: inline-block;line-height: 1.2em;}#sk-container-id-12 div.sk-label-container {text-align: center;}#sk-container-id-12 div.sk-container {/* jupyter's `normalize.less` sets `[hidden] { display: none; }` but bootstrap.min.css set `[hidden] { display: none !important; }` so we also need the `!important` here to be able to override the default hidden behavior on the sphinx rendered scikit-learn.org. See: https://github.com/scikit-learn/scikit-learn/issues/21755 */display: inline-block !important;position: relative;}#sk-container-id-12 div.sk-text-repr-fallback {display: none;}</style><div id=\"sk-container-id-12\" class=\"sk-top-container\"><div class=\"sk-text-repr-fallback\"><pre>LinearRegression()</pre><b>In a Jupyter environment, please rerun this cell to show the HTML representation or trust the notebook. <br />On GitHub, the HTML representation is unable to render, please try loading this page with nbviewer.org.</b></div><div class=\"sk-container\" hidden><div class=\"sk-item\"><div class=\"sk-estimator sk-toggleable\"><input class=\"sk-toggleable__control sk-hidden--visually\" id=\"sk-estimator-id-12\" type=\"checkbox\" checked><label for=\"sk-estimator-id-12\" class=\"sk-toggleable__label sk-toggleable__label-arrow\">LinearRegression</label><div class=\"sk-toggleable__content\"><pre>LinearRegression()</pre></div></div></div></div></div>"
      ],
      "text/plain": [
       "LinearRegression()"
      ]
     },
     "execution_count": 193,
     "metadata": {},
     "output_type": "execute_result"
    }
   ],
   "source": [
    "lm.fit(X_train,y_train)"
   ]
  },
  {
   "cell_type": "code",
   "execution_count": 194,
   "id": "b3bb491a",
   "metadata": {},
   "outputs": [
    {
     "data": {
      "text/plain": [
       "array([25.98154972, 38.59015875,  0.19040528, 61.27909654])"
      ]
     },
     "execution_count": 194,
     "metadata": {},
     "output_type": "execute_result"
    }
   ],
   "source": [
    "lm.coef_"
   ]
  },
  {
   "cell_type": "code",
   "execution_count": 195,
   "id": "d1608ea7",
   "metadata": {},
   "outputs": [
    {
     "data": {
      "text/plain": [
       "-1047.9327822502391"
      ]
     },
     "execution_count": 195,
     "metadata": {},
     "output_type": "execute_result"
    }
   ],
   "source": [
    "lm.intercept_"
   ]
  },
  {
   "cell_type": "markdown",
   "id": "656df56d",
   "metadata": {},
   "source": [
    "### Predicting the data"
   ]
  },
  {
   "cell_type": "code",
   "execution_count": 196,
   "id": "a1211d01",
   "metadata": {},
   "outputs": [],
   "source": [
    "predictions = lm.predict(X_test)"
   ]
  },
  {
   "cell_type": "code",
   "execution_count": 197,
   "id": "d9afc543",
   "metadata": {},
   "outputs": [
    {
     "data": {
      "text/plain": [
       "Text(0, 0.5, 'Predicted Y')"
      ]
     },
     "execution_count": 197,
     "metadata": {},
     "output_type": "execute_result"
    },
    {
     "data": {
      "image/png": "[encoded data removed]",
      "text/plain": [
       "<Figure size 640x480 with 1 Axes>"
      ]
     },
     "metadata": {},
     "output_type": "display_data"
    }
   ],
   "source": [
    "plt.scatter(y_test,predictions)\n",
    "plt.xlabel('Y Test')\n",
    "plt.ylabel('Predicted Y')"
   ]
  },
  {
   "cell_type": "markdown",
   "id": "68081edc",
   "metadata": {},
   "source": [
    "### Model Performance"
   ]
  },
  {
   "cell_type": "code",
   "execution_count": 198,
   "id": "ed35e5b2",
   "metadata": {},
   "outputs": [],
   "source": [
    "from sklearn import metrics"
   ]
  },
  {
   "cell_type": "code",
   "execution_count": 199,
   "id": "26816adf",
   "metadata": {},
   "outputs": [
    {
     "name": "stdout",
     "output_type": "stream",
     "text": [
      "Mean Absolute Error :   7.228148653430826\n",
      "Mean Squared Error :   79.81305165097427\n",
      "Root Mean Absolute Error :   8.933815066978624\n"
     ]
    }
   ],
   "source": [
    "print('Mean Absolute Error :',\" \", metrics.mean_absolute_error(y_test,predictions))\n",
    "print('Mean Squared Error :',\" \", metrics.mean_squared_error(y_test,predictions))\n",
    "print('Root Mean Absolute Error :',\" \", np.sqrt(metrics.mean_squared_error(y_test,predictions)))"
   ]
  },
  {
   "cell_type": "markdown",
   "id": "f92051bf",
   "metadata": {},
   "source": [
    "### Residuals"
   ]
  },
  {
   "cell_type": "code",
   "execution_count": 209,
   "id": "79625df7",
   "metadata": {},
   "outputs": [
    {
     "name": "stderr",
     "output_type": "stream",
     "text": [
      "C:\\Users\\91928\\AppData\\Local\\Programs\\Python\\Python39\\lib\\site-packages\\seaborn\\distributions.py:2619: FutureWarning:\n",
      "\n",
      "`distplot` is a deprecated function and will be removed in a future version. Please adapt your code to use either `displot` (a figure-level function with similar flexibility) or `histplot` (an axes-level function for histograms).\n",
      "\n"
     ]
    },
    {
     "data": {
      "image/png": "[encoded data removed]",
      "text/plain": [
       "<Figure size 640x480 with 1 Axes>"
      ]
     },
     "metadata": {},
     "output_type": "display_data"
    }
   ],
   "source": [
    "sns.distplot(y_test - predictions, bins=50);"
   ]
  },
  {
   "cell_type": "markdown",
   "id": "b717a06c",
   "metadata": {},
   "source": [
    "### Conclusion"
   ]
  },
  {
   "cell_type": "code",
   "execution_count": 210,
   "id": "e9026dff",
   "metadata": {},
   "outputs": [
    {
     "data": {
      "text/html": [
       "<div>\n",
       "<style scoped>\n",
       "    .dataframe tbody tr th:only-of-type {\n",
       "        vertical-align: middle;\n",
       "    }\n",
       "\n",
       "    .dataframe tbody tr th {\n",
       "        vertical-align: top;\n",
       "    }\n",
       "\n",
       "    .dataframe thead th {\n",
       "        text-align: right;\n",
       "    }\n",
       "</style>\n",
       "<table border=\"1\" class=\"dataframe\">\n",
       "  <thead>\n",
       "    <tr style=\"text-align: right;\">\n",
       "      <th></th>\n",
       "      <th>Coeffecient</th>\n",
       "    </tr>\n",
       "  </thead>\n",
       "  <tbody>\n",
       "    <tr>\n",
       "      <th>Avg. Session Length</th>\n",
       "      <td>25.981550</td>\n",
       "    </tr>\n",
       "    <tr>\n",
       "      <th>Time on App</th>\n",
       "      <td>38.590159</td>\n",
       "    </tr>\n",
       "    <tr>\n",
       "      <th>Time on Website</th>\n",
       "      <td>0.190405</td>\n",
       "    </tr>\n",
       "    <tr>\n",
       "      <th>Length of Membership</th>\n",
       "      <td>61.279097</td>\n",
       "    </tr>\n",
       "  </tbody>\n",
       "</table>\n",
       "</div>"
      ],
      "text/plain": [
       "                      Coeffecient\n",
       "Avg. Session Length     25.981550\n",
       "Time on App             38.590159\n",
       "Time on Website          0.190405\n",
       "Length of Membership    61.279097"
      ]
     },
     "execution_count": 210,
     "metadata": {},
     "output_type": "execute_result"
    }
   ],
   "source": [
    "coeffecients = pd.DataFrame(lm.coef_,X.columns)\n",
    "coeffecients.columns = ['Coeffecient']\n",
    "coeffecients"
   ]
  },
  {
   "cell_type": "markdown",
   "id": "39fb4e74",
   "metadata": {},
   "source": [
    "Thus, instead of focusing on the website, the company should try to improve app experience since most of the customer's time is spent on the app."
   ]
  }
 ],
 "metadata": {
  "kernelspec": {
   "display_name": "Python 3 (ipykernel)",
   "language": "python",
   "name": "python3"
  },
  "language_info": {
   "codemirror_mode": {
    "name": "ipython",
    "version": 3
   },
   "file_extension": ".py",
   "mimetype": "text/x-python",
   "name": "python",
   "nbconvert_exporter": "python",
   "pygments_lexer": "ipython3",
   "version": "3.9.7"
  }
 },
 "nbformat": 4,
 "nbformat_minor": 5
}
